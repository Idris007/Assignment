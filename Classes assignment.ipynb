{
 "cells": [
  {
   "cell_type": "code",
   "execution_count": 3,
   "metadata": {},
   "outputs": [
    {
     "name": "stdout",
     "output_type": "stream",
     "text": [
      "Planet Mercury is 0.4 AU distance from the sun, \n",
      "it has a relative gravity to the earth of 38%.\n",
      "Planet Jupiter is 5.2 AU distance from the sun, \n",
      "it has a relative gravity to the earth of 42%.\n",
      "Mercury\n",
      "Jupiter\n",
      "5.2 AU\n",
      "0.4 AU\n"
     ]
    }
   ],
   "source": [
    "class solar_system():\n",
    "\n",
    "    def __init__(self, name, distance_from_sun, gravity_related_to_earths_G):\n",
    "        self.name = name\n",
    "        self.distance_from_sun = distance_from_sun\n",
    "        self.gravity_related_to_earths_G = gravity_related_to_earths_G\n",
    "    def planet(self):\n",
    "        return (f'''Planet {self.name} is {self.distance_from_sun} distance from the sun, \n",
    "it has a relative gravity to the earth of {self.gravity_related_to_earths_G}.''')\n",
    "\n",
    "Planet1 = solar_system('Mercury', '0.4 AU', '38%' )\n",
    "Planet2 = solar_system('Jupiter', '5.2 AU' ,'42%')\n",
    "\n",
    "print(Planet1.planet())\n",
    "print(Planet2.planet())\n",
    "print(Planet1.name)\n",
    "print(Planet2.name)\n",
    "print(Planet2.distance_from_sun)\n",
    "print(Planet1.distance_from_sun)"
   ]
  },
  {
   "cell_type": "code",
   "execution_count": 8,
   "metadata": {},
   "outputs": [
    {
     "name": "stdout",
     "output_type": "stream",
     "text": [
      "John Grey has a savings account with 40000 balance. \n",
      "John Grey has a current account with 1000000 balance. \n",
      "John Grey\n"
     ]
    }
   ],
   "source": [
    "class bank_customers():\n",
    "    def __init__(self, firstname, lastname):\n",
    "        self.firstname = firstname\n",
    "        self.lastname = lastname\n",
    "\n",
    "\n",
    "class bank_account():\n",
    "    def __init__(self, customer, balance):\n",
    "        self.customer = customer\n",
    "        self.balance = balance\n",
    "    def account_type(self, type):\n",
    "        return f'{self.customer} has a {type} account with {self.balance} balance. '\n",
    "\n",
    "name1 = bank_account('John Grey', '40000').account_type('savings')\n",
    "name2 = bank_account('John Grey', '1000000').account_type('current')\n",
    "name3 = bank_customers('John', 'Grey')\n",
    "print(name1)\n",
    "print(name2)\n",
    "print(name3.firstname, name3.lastname)"
   ]
  },
  {
   "cell_type": "code",
   "execution_count": null,
   "metadata": {},
   "outputs": [],
   "source": []
  },
  {
   "cell_type": "code",
   "execution_count": null,
   "metadata": {},
   "outputs": [],
   "source": []
  }
 ],
 "metadata": {
  "kernelspec": {
   "display_name": "Python 3",
   "language": "python",
   "name": "python3"
  },
  "language_info": {
   "codemirror_mode": {
    "name": "ipython",
    "version": 3
   },
   "file_extension": ".py",
   "mimetype": "text/x-python",
   "name": "python",
   "nbconvert_exporter": "python",
   "pygments_lexer": "ipython3",
   "version": "3.7.6"
  }
 },
 "nbformat": 4,
 "nbformat_minor": 4
}
