{
 "cells": [
  {
   "cell_type": "markdown",
   "metadata": {},
   "source": [
    "# Assignment numpy"
   ]
  },
  {
   "cell_type": "code",
   "execution_count": 1,
   "metadata": {},
   "outputs": [
    {
     "data": {
      "text/plain": [
       "array([[ 9, 19],\n",
       "       [ 4,  8]])"
      ]
     },
     "execution_count": 1,
     "metadata": {},
     "output_type": "execute_result"
    }
   ],
   "source": [
    "import numpy as np\n",
    "# 2-dim array multiplication\n",
    "a = np.array([(1, 2, 3),(1, 1, 1)])\n",
    "b = np.array([(1, 1), (1, 3), (2, 4)])\n",
    "\n",
    "c = np.dot(a, b)\n",
    "c"
   ]
  },
  {
   "cell_type": "code",
   "execution_count": 14,
   "metadata": {},
   "outputs": [
    {
     "name": "stdout",
     "output_type": "stream",
     "text": [
      "int32\n",
      "(2, 2, 3)\n",
      "[[[1 2 3]\n",
      "  [4 5 6]]\n",
      "\n",
      " [[7 8 9]\n",
      "  [1 1 3]]]\n",
      "int32\n",
      "(2, 3, 2)\n",
      "[[[0 1]\n",
      "  [2 3]\n",
      "  [1 1]]\n",
      "\n",
      " [[2 7]\n",
      "  [5 1]\n",
      "  [3 6]]]\n"
     ]
    }
   ],
   "source": [
    "# 3-dim array\n",
    "d = np.array([[[1,2,3],[4,5,6]],[[7,8,9],[1,1,3]]])\n",
    "e = np.array([[[0,1],[2,3],[1,1]],[[2,7],[5,1],[3,6]]])\n",
    "print(d.dtype)\n",
    "print(d.shape)\n",
    "print(d)\n",
    "print(e.dtype)\n",
    "print(e.shape)\n",
    "print(e)"
   ]
  },
  {
   "cell_type": "code",
   "execution_count": 15,
   "metadata": {},
   "outputs": [
    {
     "data": {
      "text/plain": [
       "array([[[[  7,  10],\n",
       "         [ 21,  27]],\n",
       "\n",
       "        [[ 16,  25],\n",
       "         [ 51,  69]]],\n",
       "\n",
       "\n",
       "       [[[ 25,  40],\n",
       "         [ 81, 111]],\n",
       "\n",
       "        [[  5,   7],\n",
       "         [ 16,  26]]]])"
      ]
     },
     "execution_count": 15,
     "metadata": {},
     "output_type": "execute_result"
    }
   ],
   "source": [
    "# 3-dim array multiplication\n",
    "np.dot(d, e)"
   ]
  },
  {
   "cell_type": "code",
   "execution_count": 17,
   "metadata": {},
   "outputs": [
    {
     "name": "stdout",
     "output_type": "stream",
     "text": [
      "0.9410141438467099\n"
     ]
    }
   ],
   "source": [
    "# using sin and cos\n",
    "angle1 = 30\n",
    "angle2 = 60\n",
    "x = np.sin(angle1)\n",
    "y = np.cos(angle2)\n",
    "z = x * y\n",
    "print(z)"
   ]
  },
  {
   "cell_type": "code",
   "execution_count": 22,
   "metadata": {},
   "outputs": [
    {
     "name": "stdout",
     "output_type": "stream",
     "text": [
      "-6.405331196646276\n",
      "0.320040389379563\n"
     ]
    }
   ],
   "source": [
    "# tan of angles\n",
    "q = np.tan(angle1)\n",
    "r = np.tan(angle2)\n",
    "print(q)\n",
    "print(r)"
   ]
  },
  {
   "cell_type": "code",
   "execution_count": 23,
   "metadata": {},
   "outputs": [
    {
     "data": {
      "text/plain": [
       "-1.139308074341902"
      ]
     },
     "execution_count": 23,
     "metadata": {},
     "output_type": "execute_result"
    }
   ],
   "source": [
    "# using log\n",
    "np.log(r)"
   ]
  },
  {
   "cell_type": "code",
   "execution_count": 36,
   "metadata": {},
   "outputs": [
    {
     "data": {
      "text/plain": [
       "array([[59, 45, 39, 22, 61],\n",
       "       [13, 15, 19, 10, 19],\n",
       "       [26, 32, 39, 17, 34],\n",
       "       [37, 49, 56, 17, 39],\n",
       "       [34, 30, 34, 22, 46]])"
      ]
     },
     "execution_count": 36,
     "metadata": {},
     "output_type": "execute_result"
    }
   ],
   "source": [
    "# using matmul to multiply 5x3 matrix\n",
    "p = [[1,2,9],\n",
    "    [3,2,1],\n",
    "    [4,5,2],\n",
    "    [1,9,3],\n",
    "    [6,2,4]]\n",
    "j = [[1,1,2,2,3],\n",
    "     [2,4,5,1,2],\n",
    "     [6,4,3,2,6]]\n",
    "np.matmul(p, j)\n",
    "\n"
   ]
  },
  {
   "cell_type": "code",
   "execution_count": 37,
   "metadata": {},
   "outputs": [],
   "source": [
    "# creating a 3x3 identity matrix\n",
    "imatrix = np.eye(3)"
   ]
  },
  {
   "cell_type": "code",
   "execution_count": 38,
   "metadata": {},
   "outputs": [
    {
     "data": {
      "text/plain": [
       "array([[1., 0., 0.],\n",
       "       [0., 1., 0.],\n",
       "       [0., 0., 1.]])"
      ]
     },
     "execution_count": 38,
     "metadata": {},
     "output_type": "execute_result"
    }
   ],
   "source": [
    "imatrix"
   ]
  },
  {
   "cell_type": "code",
   "execution_count": 39,
   "metadata": {},
   "outputs": [
    {
     "data": {
      "text/plain": [
       "array([[2, 3, 4],\n",
       "       [5, 8, 7],\n",
       "       [4, 8, 9]])"
      ]
     },
     "execution_count": 39,
     "metadata": {},
     "output_type": "execute_result"
    }
   ],
   "source": [
    "# creating a 3x3 random matrix with integer between 2 and 10\n",
    "np.random.randint(2,10, size=(3,3))"
   ]
  },
  {
   "cell_type": "code",
   "execution_count": 63,
   "metadata": {},
   "outputs": [
    {
     "data": {
      "text/plain": [
       "array([[-1.,  1.],\n",
       "       [ 2., -1.]])"
      ]
     },
     "execution_count": 63,
     "metadata": {},
     "output_type": "execute_result"
    }
   ],
   "source": [
    "# inverse of a matrix\n",
    "n = np.array([[1,1],[2,1]])\n",
    "\n",
    "t = np.linalg.inv(n)\n",
    "t"
   ]
  },
  {
   "cell_type": "code",
   "execution_count": 76,
   "metadata": {},
   "outputs": [
    {
     "name": "stdout",
     "output_type": "stream",
     "text": [
      "[[1 3 5 9]\n",
      " [1 1 1 0]\n",
      " [3 1 7 5]]\n"
     ]
    },
    {
     "data": {
      "text/plain": [
       "array([[1, 3, 5],\n",
       "       [9, 1, 1],\n",
       "       [1, 0, 3],\n",
       "       [1, 7, 5]])"
      ]
     },
     "execution_count": 76,
     "metadata": {},
     "output_type": "execute_result"
    }
   ],
   "source": [
    "# changing the shape of a matrix e.g 3x2 into 2x3\n",
    "w = np.array([[1,3,5,9],[1,1,1,0],[3,1,7,5]])\n",
    "print(w)\n",
    "w.reshape(4,3)"
   ]
  },
  {
   "cell_type": "code",
   "execution_count": null,
   "metadata": {},
   "outputs": [],
   "source": []
  }
 ],
 "metadata": {
  "kernelspec": {
   "display_name": "Python 3",
   "language": "python",
   "name": "python3"
  },
  "language_info": {
   "codemirror_mode": {
    "name": "ipython",
    "version": 3
   },
   "file_extension": ".py",
   "mimetype": "text/x-python",
   "name": "python",
   "nbconvert_exporter": "python",
   "pygments_lexer": "ipython3",
   "version": "3.7.6"
  }
 },
 "nbformat": 4,
 "nbformat_minor": 4
}
